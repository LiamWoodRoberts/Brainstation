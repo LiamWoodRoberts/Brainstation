{
 "cells": [
  {
   "cell_type": "markdown",
   "metadata": {},
   "source": [
    "---\n",
    "\n",
    "<center><h1> Building More Models to Predict Housing Prices </h1></center>\n",
    "\n",
    "---\n",
    "\n",
    "\n",
    "## Packages Used:\n"
   ]
  },
  {
   "cell_type": "code",
   "execution_count": 1,
   "metadata": {},
   "outputs": [],
   "source": [
    "%matplotlib inline\n",
    "\n",
    "import warnings\n",
    "warnings.filterwarnings('ignore')\n",
    "\n",
    "# For Plotting\n",
    "import matplotlib.pyplot as plt\n",
    "import seaborn as sns\n",
    "\n",
    "# Manipulating and Storing Data\n",
    "import pandas as pd\n",
    "import numpy as np\n",
    "pd.set_option('display.max_columns',None)\n",
    "\n",
    "# Machine Learning\n",
    "from sklearn.metrics import r2_score\n",
    "from sklearn.model_selection import train_test_split\n",
    "from sklearn import tree\n",
    "from sklearn import ensemble"
   ]
  },
  {
   "cell_type": "markdown",
   "metadata": {},
   "source": [
    "---\n",
    "## Condensed Data Cleaning Pipeline\n"
   ]
  },
  {
   "cell_type": "code",
   "execution_count": 2,
   "metadata": {},
   "outputs": [],
   "source": [
    "def fill_median_by_category(df,nan_column,category):    \n",
    "    means = df.groupby(category)[nan_column].median()\n",
    "    df.set_index([category],inplace=True)\n",
    "    df[nan_column] = df[nan_column].fillna(means)\n",
    "    df.reset_index(inplace=True)\n",
    "    print(f\"Filled NaNs in '{nan_column}' column with medians of respective '{category}' category\")\n",
    "    return"
   ]
  },
  {
   "cell_type": "code",
   "execution_count": 3,
   "metadata": {},
   "outputs": [
    {
     "name": "stdout",
     "output_type": "stream",
     "text": [
      "Filled NaNs in 'Car' column with medians of respective 'Postcode' category\n",
      "Filled NaNs in 'Landsize' column with medians of respective 'Postcode' category\n",
      "Filled NaNs in 'BuildingArea' column with medians of respective 'Postcode' category\n",
      "Filled NaNs in 'YearBuilt' column with medians of respective 'Postcode' category\n"
     ]
    }
   ],
   "source": [
    "df = pd.read_csv('melb_data.csv')\n",
    "\n",
    "df['Regionname'] , _ = pd.factorize(df['Regionname'])\n",
    "df['Type'], _ = pd.factorize(df['Type'])\n",
    "\n",
    "df = df.drop(columns=['Bedroom2'])\n",
    "df['Landsize'] = df['Landsize'].replace(0,np.nan)\n",
    "df['BuildingArea'] = df['BuildingArea'].replace(0,np.nan)\n",
    "\n",
    "nan_cols = [col for col in df.columns if df[col].isna().any()]\n",
    "nan_cols.remove('CouncilArea')\n",
    "\n",
    "# Fill NaNs\n",
    "for col in nan_cols:\n",
    "    # Fill with median of postalcode\n",
    "    fill_median_by_category(df,col,'Postcode')\n",
    "    \n",
    "    # If still nans fill with global median of column\n",
    "    fill = df[col].median()\n",
    "    df[col] = df[col].fillna(fill)"
   ]
  },
  {
   "cell_type": "markdown",
   "metadata": {},
   "source": [
    "## Using Cross Validation to Better Understand Our Models"
   ]
  },
  {
   "cell_type": "code",
   "execution_count": 4,
   "metadata": {},
   "outputs": [],
   "source": [
    "rs = 5\n",
    "\n",
    "# Create list of dependent features to use in baseline model\n",
    "num_features = ['Rooms',\n",
    "            'Distance',\n",
    "            'Bathroom',\n",
    "            'Car',\n",
    "            'Landsize',\n",
    "            'BuildingArea',\n",
    "            'Lattitude',\n",
    "            'Longtitude',\n",
    "            'YearBuilt',\n",
    "           ]\n",
    "\n",
    "categorical_features = ['Type','Regionname']\n",
    "\n",
    "features = num_features + categorical_features\n",
    "\n",
    "# identify target (independent) variable\n",
    "target = 'Price'"
   ]
  },
  {
   "cell_type": "code",
   "execution_count": 5,
   "metadata": {},
   "outputs": [],
   "source": [
    "from sklearn.model_selection import KFold"
   ]
  },
  {
   "cell_type": "markdown",
   "metadata": {},
   "source": [
    "Using the KFold module we can split our data into the necessary train and validation indices for cross validation of our models. Lets take a look at how to use KFold in practice."
   ]
  },
  {
   "cell_type": "code",
   "execution_count": 6,
   "metadata": {},
   "outputs": [],
   "source": [
    "folds = KFold(n_splits = 5,random_state=rs)\n",
    "indices = folds.split(df)"
   ]
  },
  {
   "cell_type": "markdown",
   "metadata": {},
   "source": [
    "Here we split our data frame using folds.split() method of the folds object. Lets look at what data type it represents."
   ]
  },
  {
   "cell_type": "code",
   "execution_count": 7,
   "metadata": {},
   "outputs": [
    {
     "data": {
      "text/plain": [
       "generator"
      ]
     },
     "execution_count": 7,
     "metadata": {},
     "output_type": "execute_result"
    }
   ],
   "source": [
    "type(indices)"
   ]
  },
  {
   "cell_type": "markdown",
   "metadata": {},
   "source": [
    "Our \"indices\" object represents a generator, lets iterate through it and see what each item is in the generator."
   ]
  },
  {
   "cell_type": "code",
   "execution_count": 8,
   "metadata": {},
   "outputs": [
    {
     "name": "stdout",
     "output_type": "stream",
     "text": [
      "<class 'tuple'>\n"
     ]
    }
   ],
   "source": [
    "for i in indices:\n",
    "    print(type(i))\n",
    "    break"
   ]
  },
  {
   "cell_type": "markdown",
   "metadata": {},
   "source": [
    "Okay each item in the generator is a tuple. Lets check the size of each tuple."
   ]
  },
  {
   "cell_type": "code",
   "execution_count": 9,
   "metadata": {},
   "outputs": [
    {
     "name": "stdout",
     "output_type": "stream",
     "text": [
      "2\n"
     ]
    }
   ],
   "source": [
    "for i in indices:\n",
    "    print(len(i))\n",
    "    break"
   ]
  },
  {
   "cell_type": "markdown",
   "metadata": {},
   "source": [
    "finally lets look into each tuple and check their respective lengths relative to the total DataFrame."
   ]
  },
  {
   "cell_type": "code",
   "execution_count": 10,
   "metadata": {},
   "outputs": [
    {
     "name": "stdout",
     "output_type": "stream",
     "text": [
      "0.8\n",
      "0.2\n",
      "0.8\n",
      "0.2\n",
      "0.8\n",
      "0.2\n",
      "0.8\n",
      "0.2\n",
      "0.8\n",
      "0.2\n"
     ]
    }
   ],
   "source": [
    "folds = KFold(n_splits = 5,random_state=rs)\n",
    "indices = folds.split(df)\n",
    "\n",
    "for a,b in indices:\n",
    "    print(len(a)/len(df))\n",
    "    print(len(b)/len(df))"
   ]
  },
  {
   "cell_type": "markdown",
   "metadata": {},
   "source": [
    "The folds provide us with a list of indices for the train and validation set. Now we understand better how KFold actually splits the data and what objects it returns to us. We are now ready to use KFold in order to cross validate our model. One of the uses of this is that we can grab attributes from each fold so we can get things like feature importance and different loss values over each fold. Below we will walkthrough one method on how to calculate the mean feature importance of our model over every fold."
   ]
  },
  {
   "cell_type": "code",
   "execution_count": 11,
   "metadata": {},
   "outputs": [
    {
     "data": {
      "image/png": "[encoded data removed]",
      "text/plain": [
       "<Figure size 432x288 with 1 Axes>"
      ]
     },
     "metadata": {
      "needs_background": "light"
     },
     "output_type": "display_data"
    }
   ],
   "source": [
    "folds = KFold(n_splits = 5)\n",
    "indices = folds.split(df)\n",
    "\n",
    "feature_importance = pd.DataFrame()\n",
    "feature_importance['feature'] = features\n",
    "feature_importance['importance'] = np.zeros(len(features))\n",
    "\n",
    "for train_idx,val_idx in indices:\n",
    "    \n",
    "    train = df.iloc[train_idx]\n",
    "    val = df.iloc[val_idx]\n",
    "    \n",
    "    dt = tree.DecisionTreeRegressor(max_depth=10,random_state=rs)\n",
    "    dt_model = dt.fit(train[features],train[target])\n",
    "    \n",
    "    feature_importance['importance'] += dt_model.feature_importances_/folds.n_splits\n",
    "    \n",
    "sns.barplot(x='importance',y='feature',data=feature_importance.sort_values('importance',ascending=False));"
   ]
  },
  {
   "cell_type": "markdown",
   "metadata": {},
   "source": [
    "## Out of Fold Validation\n",
    "\n",
    "Generally when we get a prediction from a cross validation function it is giving us an \"out of fold\" prediction. What this means is that it is taking the predictions of each model on the validation set and returning those predictions. With this method we get a prediction for every point in our training set. This is often abbreviated to oof score or oof predictions. Here is how we would grab these scores manually."
   ]
  },
  {
   "cell_type": "code",
   "execution_count": 12,
   "metadata": {},
   "outputs": [],
   "source": [
    "folds = KFold(n_splits = 5)\n",
    "indices = folds.split(df)\n",
    "\n",
    "oof_preds = np.zeros(len(df))\n",
    "\n",
    "for train_idx,val_idx in indices:\n",
    "    train = df.iloc[train_idx]\n",
    "    val = df.iloc[val_idx]\n",
    "    dt = tree.DecisionTreeRegressor(max_depth=10,random_state=rs)\n",
    "    dt_model = dt.fit(train[features],train[target])\n",
    "    \n",
    "    oof_preds[val_idx] = dt_model.predict(val[features])"
   ]
  },
  {
   "cell_type": "code",
   "execution_count": 13,
   "metadata": {},
   "outputs": [
    {
     "name": "stdout",
     "output_type": "stream",
     "text": [
      "Out of Fold R-Squared: 0.6382598554176062\n"
     ]
    }
   ],
   "source": [
    "print('Out of Fold R-Squared:',r2_score(df[target],oof_preds))"
   ]
  },
  {
   "cell_type": "markdown",
   "metadata": {},
   "source": [
    "## Getting Test Set Predictions from Cross Validation\n",
    "\n",
    "Another thing we can do when we cross validate is to get a prediction on our test set. This is technically a form of ensembling as we are taking the predictions from each model trained in each fold. We do this similar to how we did mean feature importance across the folds. But first we will need to split our data into train and test sets."
   ]
  },
  {
   "cell_type": "code",
   "execution_count": 14,
   "metadata": {},
   "outputs": [
    {
     "name": "stdout",
     "output_type": "stream",
     "text": [
      "Out of Fold R-Squared 0.6616481133898594\n",
      "Test R-Squared 0.7211088703615105\n"
     ]
    }
   ],
   "source": [
    "train_df,test_df = train_test_split(df,test_size=0.2,random_state=rs)\n",
    "\n",
    "folds = KFold(n_splits = 5,shuffle=True,random_state=rs)\n",
    "indices = folds.split(train_df)\n",
    "\n",
    "oof_preds = np.zeros(len(train_df))\n",
    "test_preds = np.zeros(len(test_df))\n",
    "\n",
    "for train_idx,val_idx in indices:\n",
    "    \n",
    "    train = train_df.iloc[train_idx]\n",
    "    val = train_df.iloc[val_idx]\n",
    "    \n",
    "    dt = tree.DecisionTreeRegressor(max_depth=10,random_state=rs)\n",
    "    dt_model = dt.fit(train[features],train[target])\n",
    "    \n",
    "    oof_preds[val_idx] = dt_model.predict(val[features])\n",
    "    test_preds += dt_model.predict(test_df[features])/folds.n_splits\n",
    "    \n",
    "print('Out of Fold R-Squared',r2_score(train_df[target],oof_preds))\n",
    "print('Test R-Squared',r2_score(test_df[target],test_preds))"
   ]
  },
  {
   "cell_type": "markdown",
   "metadata": {},
   "source": [
    "Our model performs much better on the test set compared to the validation set, a testimate to the advantage of ensembling. This type of validation is generally a go to for accurate prediction of test set performance. We have now covered three different aggregates we can calculate using cross validation:\n",
    "\n",
    "1. Mean Feature Importance\n",
    "2. Out of Fold Predictions/Scores\n",
    "3. Ensembled Test Set Predictions\n",
    "\n",
    "Lets combine these into a single usable function that will work for any tree based model."
   ]
  },
  {
   "cell_type": "code",
   "execution_count": 15,
   "metadata": {},
   "outputs": [],
   "source": [
    "def cv_tree_model(model,train_df,test_df,features,folds = 5,state=1):\n",
    "    \n",
    "    folds = KFold(n_splits = folds,shuffle=True,random_state=state)\n",
    "    indices = folds.split(train_df)\n",
    "\n",
    "    oof_preds = np.zeros(len(train_df))\n",
    "    test_preds = np.zeros(len(test_df))\n",
    "    \n",
    "    feature_importance = pd.DataFrame()\n",
    "    feature_importance['feature'] = features\n",
    "    feature_importance['importance'] = np.zeros(len(features))\n",
    "\n",
    "    for train_idx,val_idx in indices:\n",
    "        \n",
    "        train = train_df.iloc[train_idx]\n",
    "        val = train_df.iloc[val_idx]\n",
    "        tree_model = model.fit(train[features],train[target])\n",
    "        oof_preds[val_idx] = tree_model.predict(val[features])\n",
    "        test_preds += tree_model.predict(test_df[features])/folds.n_splits\n",
    "        feature_importance['importance'] += tree_model.feature_importances_/folds.n_splits\n",
    "    \n",
    "    feature_importance.sort_values('importance',ascending=False,inplace=True)\n",
    "    \n",
    "    print('Out of Fold R-Squared',r2_score(train_df[target],oof_preds))\n",
    "    print('Test R-Squared',r2_score(test_df[target],test_preds))\n",
    "    return oof_preds, test_preds, feature_importance        "
   ]
  },
  {
   "cell_type": "markdown",
   "metadata": {},
   "source": [
    "Great now we have a function that can pass us any values we might need. Lets try this out on a few different tree based models and see how it does. "
   ]
  },
  {
   "cell_type": "code",
   "execution_count": 16,
   "metadata": {},
   "outputs": [
    {
     "name": "stdout",
     "output_type": "stream",
     "text": [
      "GradientBoosting \n",
      "----------------------------------------\n",
      "Out of Fold R-Squared 0.8064590963490588\n",
      "Test R-Squared 0.7785659836904625\n"
     ]
    },
    {
     "data": {
      "image/png": "[encoded data removed]",
      "text/plain": [
       "<Figure size 432x288 with 1 Axes>"
      ]
     },
     "metadata": {
      "needs_background": "light"
     },
     "output_type": "display_data"
    },
    {
     "name": "stdout",
     "output_type": "stream",
     "text": [
      "RandomForest \n",
      "----------------------------------------\n",
      "Out of Fold R-Squared 0.7723476198592635\n",
      "Test R-Squared 0.7415385666607512\n"
     ]
    },
    {
     "data": {
      "image/png": "[encoded data removed]",
      "text/plain": [
       "<Figure size 432x288 with 1 Axes>"
      ]
     },
     "metadata": {
      "needs_background": "light"
     },
     "output_type": "display_data"
    },
    {
     "name": "stdout",
     "output_type": "stream",
     "text": [
      "DecisionTree \n",
      "----------------------------------------\n",
      "Out of Fold R-Squared 0.6616481133898594\n",
      "Test R-Squared 0.7211088703615105\n"
     ]
    },
    {
     "data": {
      "image/png": "[encoded data removed]",
      "text/plain": [
       "<Figure size 432x288 with 1 Axes>"
      ]
     },
     "metadata": {
      "needs_background": "light"
     },
     "output_type": "display_data"
    }
   ],
   "source": [
    "gbm = ensemble.GradientBoostingRegressor(max_depth=10,random_state=rs)\n",
    "rf = ensemble.RandomForestRegressor(max_depth = 10,random_state=rs)\n",
    "dt = tree.DecisionTreeRegressor(max_depth = 10,random_state=rs)\n",
    "\n",
    "for model,name in zip([gbm,rf,dt],['GradientBoosting','RandomForest','DecisionTree']):\n",
    "    print(name,'\\n'+'-'*40)\n",
    "    oofs,preds,feature_importance = cv_tree_model(model,train_df,test_df,features,folds = 5,state=rs)\n",
    "    sns.barplot(x='importance',y='feature',data=feature_importance)\n",
    "    plt.show()"
   ]
  },
  {
   "cell_type": "markdown",
   "metadata": {},
   "source": [
    "---"
   ]
  }
 ],
 "metadata": {
  "kernelspec": {
   "display_name": "Python 3",
   "language": "python",
   "name": "python3"
  },
  "language_info": {
   "codemirror_mode": {
    "name": "ipython",
    "version": 3
   },
   "file_extension": ".py",
   "mimetype": "text/x-python",
   "name": "python",
   "nbconvert_exporter": "python",
   "pygments_lexer": "ipython3",
   "version": "3.7.1"
  }
 },
 "nbformat": 4,
 "nbformat_minor": 2
}
